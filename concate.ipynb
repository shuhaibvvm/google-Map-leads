{
 "cells": [
  {
   "cell_type": "code",
   "id": "initial_id",
   "metadata": {
    "collapsed": true,
    "ExecuteTime": {
     "end_time": "2025-08-10T03:47:37.999273Z",
     "start_time": "2025-08-10T03:47:34.589631Z"
    }
   },
   "source": "import pandas as pd",
   "outputs": [],
   "execution_count": 1
  },
  {
   "metadata": {
    "ExecuteTime": {
     "end_time": "2025-08-10T03:47:38.910463Z",
     "start_time": "2025-08-10T03:47:38.902835Z"
    }
   },
   "cell_type": "code",
   "source": "files = ['total/A.csv',\"total/B.csv\",'total/C.csv']",
   "id": "9062d93164c3fc70",
   "outputs": [],
   "execution_count": 3
  },
  {
   "metadata": {
    "ExecuteTime": {
     "end_time": "2025-08-10T03:47:39.198914Z",
     "start_time": "2025-08-10T03:47:39.111626Z"
    }
   },
   "cell_type": "code",
   "source": "df = pd.concat((pd.read_csv(f) for f in files), ignore_index=True)\n",
   "id": "3d27e8e0b7c77761",
   "outputs": [],
   "execution_count": 4
  },
  {
   "metadata": {
    "ExecuteTime": {
     "end_time": "2025-08-10T03:47:49.083522Z",
     "start_time": "2025-08-10T03:47:49.035151Z"
    }
   },
   "cell_type": "code",
   "source": "df = df.drop_duplicates()\n",
   "id": "16ed3af758f5a200",
   "outputs": [],
   "execution_count": 5
  },
  {
   "metadata": {
    "ExecuteTime": {
     "end_time": "2025-08-10T03:47:59.308081Z",
     "start_time": "2025-08-10T03:47:59.227659Z"
    }
   },
   "cell_type": "code",
   "source": "df.info()",
   "id": "39c74c9a223fb46",
   "outputs": [
    {
     "name": "stdout",
     "output_type": "stream",
     "text": [
      "<class 'pandas.core.frame.DataFrame'>\n",
      "RangeIndex: 3181 entries, 0 to 3180\n",
      "Data columns (total 31 columns):\n",
      " #   Column                 Non-Null Count  Dtype  \n",
      "---  ------                 --------------  -----  \n",
      " 0   name                   3181 non-null   object \n",
      " 1   address                3179 non-null   object \n",
      " 2   phone_number           1976 non-null   object \n",
      " 3   google_maps_url        3181 non-null   object \n",
      " 4   place_id               3181 non-null   object \n",
      " 5   coordinates            3181 non-null   object \n",
      " 6   website                1972 non-null   object \n",
      " 7   place_type             2986 non-null   object \n",
      " 8   category               3181 non-null   object \n",
      " 9   reviews_average        3181 non-null   float64\n",
      " 10  reviews_count          2793 non-null   float64\n",
      " 11  price_range            3138 non-null   object \n",
      " 12  opens_at               2345 non-null   object \n",
      " 13  full_hours             2345 non-null   object \n",
      " 14  store_shopping         3181 non-null   object \n",
      " 15  in_store_pickup        3181 non-null   object \n",
      " 16  store_delivery         3181 non-null   object \n",
      " 17  dine_in                3181 non-null   object \n",
      " 18  takeaway               3181 non-null   object \n",
      " 19  reservations           3181 non-null   object \n",
      " 20  wheelchair_accessible  3181 non-null   object \n",
      " 21  verified_business      3181 non-null   object \n",
      " 22  introduction           3181 non-null   object \n",
      " 23  services_offered       2081 non-null   object \n",
      " 24  amenities              0 non-null      float64\n",
      " 25  photos_count           1831 non-null   float64\n",
      " 26  popular_times          3181 non-null   object \n",
      " 27  years_in_business      0 non-null      float64\n",
      " 28  owner_info             0 non-null      float64\n",
      " 29  search_keyword         3181 non-null   object \n",
      " 30  scraped_at             3181 non-null   object \n",
      "dtypes: float64(6), object(25)\n",
      "memory usage: 770.5+ KB\n"
     ]
    }
   ],
   "execution_count": 6
  },
  {
   "metadata": {
    "ExecuteTime": {
     "end_time": "2025-08-10T03:48:47.259779Z",
     "start_time": "2025-08-10T03:48:46.926212Z"
    }
   },
   "cell_type": "code",
   "source": "df.to_csv(\"total_csv.csv\", index=False)\n",
   "id": "b40c03d65d9e4ef2",
   "outputs": [],
   "execution_count": 7
  },
  {
   "metadata": {},
   "cell_type": "code",
   "outputs": [],
   "execution_count": null,
   "source": "",
   "id": "5cfc6fdb5196fd10"
  }
 ],
 "metadata": {
  "kernelspec": {
   "display_name": "Python 3",
   "language": "python",
   "name": "python3"
  },
  "language_info": {
   "codemirror_mode": {
    "name": "ipython",
    "version": 2
   },
   "file_extension": ".py",
   "mimetype": "text/x-python",
   "name": "python",
   "nbconvert_exporter": "python",
   "pygments_lexer": "ipython2",
   "version": "2.7.6"
  }
 },
 "nbformat": 4,
 "nbformat_minor": 5
}
